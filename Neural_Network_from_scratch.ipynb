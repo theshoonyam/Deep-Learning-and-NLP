{
  "nbformat": 4,
  "nbformat_minor": 0,
  "metadata": {
    "colab": {
      "provenance": [],
      "authorship_tag": "ABX9TyNRV+ps69OCb9V2f86W6KD3",
      "include_colab_link": true
    },
    "kernelspec": {
      "name": "python3",
      "display_name": "Python 3"
    },
    "language_info": {
      "name": "python"
    }
  },
  "cells": [
    {
      "cell_type": "markdown",
      "metadata": {
        "id": "view-in-github",
        "colab_type": "text"
      },
      "source": [
        "<a href=\"https://colab.research.google.com/github/theshoonyam/Deep-Learning-and-NLP/blob/main/Neural_Network_from_scratch.ipynb\" target=\"_parent\"><img src=\"https://colab.research.google.com/assets/colab-badge.svg\" alt=\"Open In Colab\"/></a>"
      ]
    },
    {
      "cell_type": "code",
      "execution_count": 1,
      "metadata": {
        "id": "IMHtXwQHoJfp"
      },
      "outputs": [],
      "source": [
        "import numpy as np"
      ]
    },
    {
      "cell_type": "code",
      "source": [
        "class Model:\n",
        "  def __init__(self,input_size,hidden_size,output_size):\n",
        "    self.W1,self.W2 = self.initialize_weights(input_size,hidden_size,output_size)\n",
        "\n",
        "  def sigmoid(self,x):\n",
        "    return 1/(1+np.exp(-x))\n",
        "\n",
        "  def sigmoid_derivative(self,x):\n",
        "    return x*(1-x)\n",
        "\n",
        "  def initialize_weights(self,input_size,hidden_size,output_size):\n",
        "    W1 = np.random.randn(input_size,hidden_size)\n",
        "    W2 = np.random.randn(hidden_size,output_size)\n",
        "    return W1,W2\n",
        "\n",
        "  def forward_propagate(self,X):\n",
        "    H = self.sigmoid(np.dot(X,self.W1))\n",
        "    Y = self.sigmoid(np.dot(H,self.W2))\n",
        "    return H,Y\n",
        "\n",
        "  def back_propagate(self,X,H,Y,y_true):\n",
        "    m = X.shape[0]\n",
        "    if(m==0): return 0,0\n",
        "    error = Y - y_true\n",
        "    dW2 = (1/m)*(np.dot(H.T,error))\n",
        "    dH = np.dot(error,self.W2.T) * self.sigmoid_derivative(H)\n",
        "    dW1 = (1/m)*(np.dot(X.T,dH))\n",
        "    return dW1,dW2\n",
        "\n",
        "  def update_weights(self,dW1,dW2,learning_rate):\n",
        "    self.W1 -= learning_rate*dW1\n",
        "    self.W2 -= learning_rate*dW2\n",
        "\n",
        "  def optimize(self,X,y_true,num_epochs,learning_rate,batch_size):\n",
        "    for epoch in range(num_epochs):\n",
        "      shuffled_indices = np.random.permutation(X.shape[0])\n",
        "      X = X[shuffled_indices]\n",
        "      y_true = y_true[shuffled_indices]\n",
        "\n",
        "      num_batches = X.shape[0]\n",
        "      for batch_index in range(num_batches):\n",
        "        start_index = batch_index*batch_size\n",
        "        end_index = start_index + batch_size\n",
        "        X_batch = X[start_index:end_index]\n",
        "        y_batch = y_true[start_index:end_index]\n",
        "\n",
        "        H,Y = self.forward_propagate(X_batch)\n",
        "\n",
        "        dW1,dW2 = self.back_propagate(X_batch,H,Y,y_batch)\n",
        "\n",
        "        self.update_weights(dW1,dW2,learning_rate)\n",
        "\n",
        "    return\n",
        "\n",
        ""
      ],
      "metadata": {
        "id": "iRS49qYIo6nJ"
      },
      "execution_count": 10,
      "outputs": []
    },
    {
      "cell_type": "code",
      "source": [
        "import tensorflow as tf\n",
        "from tensorflow.keras.datasets import mnist\n",
        "from tensorflow.keras.utils import to_categorical\n",
        "\n",
        "\n",
        "(X_train,y_train),(X_test,y_test) = mnist.load_data()\n",
        "\n",
        "X_train = X_train.reshape(60000,784)\n",
        "X_test = X_test.reshape(10000,784)\n",
        "X_train = X_train.astype('float32')\n",
        "X_test = X_test.astype('float32')\n",
        "X_train /= 255\n",
        "X_test /= 255\n",
        "\n",
        "\n",
        "y_train = to_categorical(y_train,10)\n",
        "y_test = to_categorical(y_test,10)\n",
        "\n",
        "model = Model(input_size=784,hidden_size=64,output_size=10)\n",
        "\n",
        "model.optimize(X_train,y_train,num_epochs=100,learning_rate=0.01,batch_size=64)\n",
        "\n",
        "H,Y = model.forward_propagate(X_test)\n",
        "predictions = np.argmax(Y,axis=1)\n",
        "\n",
        "accuracy = np.mean(predictions==np.argmax(y_test,axis=1))\n",
        "print(f'Accuracy:{accuracy:.4f}')"
      ],
      "metadata": {
        "colab": {
          "base_uri": "https://localhost:8080/"
        },
        "id": "E7L7jg3DtPb1",
        "outputId": "b1106d32-1bf0-43ab-9077-6552710b69b6"
      },
      "execution_count": 15,
      "outputs": [
        {
          "output_type": "stream",
          "name": "stdout",
          "text": [
            "Accuracy:0.9044\n"
          ]
        }
      ]
    }
  ]
}